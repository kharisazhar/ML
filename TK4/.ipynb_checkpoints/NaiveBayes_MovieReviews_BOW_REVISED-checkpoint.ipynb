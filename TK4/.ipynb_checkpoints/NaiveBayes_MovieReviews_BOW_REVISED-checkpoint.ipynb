{
 "cells": [
  {
   "cell_type": "markdown",
   "id": "3d33f812",
   "metadata": {},
   "source": [
    "# Naive Bayes Cornell Data Set E2E + 5 Extended"
   ]
  },
  {
   "cell_type": "code",
   "execution_count": null,
   "id": "42917ae1",
   "metadata": {},
   "outputs": [],
   "source": [
    "\n",
    "import os\n",
    "import pandas as pd\n",
    "from pathlib import Path\n",
    "import numpy as np, pandas as pd, matplotlib.pyplot as plt\n",
    "from sklearn.feature_extraction.text import CountVectorizer\n",
    "from sklearn.model_selection import StratifiedKFold, cross_val_score, train_test_split\n",
    "from sklearn.naive_bayes import MultinomialNB\n",
    "from sklearn.metrics import classification_report, confusion_matrix, accuracy_score\n",
    "print(\"Ready.\")"
   ]
  },
  {
   "cell_type": "markdown",
   "id": "8145bdd5",
   "metadata": {},
   "source": [
    "## 1) Dataset Baru (10 review)"
   ]
  },
  {
   "cell_type": "code",
   "execution_count": null,
   "id": "247375f4",
   "metadata": {},
   "outputs": [],
   "source": [
    "BASE_DIR = Path(\"/Users/muhammadkharisazhar/Documents/Binus/ML/TK4/data\")\n",
    "\n",
    "CORNELL_POS = BASE_DIR / \"cornell/pos\"\n",
    "CORNELL_NEG = BASE_DIR / \"cornell/neg\"\n",
    "EXT_POS = BASE_DIR / \"extended/pos_new\"\n",
    "EXT_NEG = BASE_DIR / \"extended/neg_new\"\n",
    "\n",
    "def read_reviews_from_folder(folder_path: Path, label: str):\n",
    "    reviews = []\n",
    "    for file in sorted(folder_path.glob(\"*.txt\")):\n",
    "        with open(file, \"r\", encoding=\"utf-8\", errors=\"ignore\") as f:\n",
    "            text = f.read().strip()\n",
    "        reviews.append({\"opinion_id\": file.stem, \"text\": text, \"label\": label})\n",
    "    return reviews\n",
    "\n",
    "pos_reviews = read_reviews_from_folder(CORNELL_POS, \"Pos\")\n",
    "neg_reviews = read_reviews_from_folder(CORNELL_NEG, \"Neg\")\n",
    "\n",
    "pos_ext = read_reviews_from_folder(EXT_POS, \"Pos\")\n",
    "neg_ext = read_reviews_from_folder(EXT_NEG, \"Neg\")\n",
    "\n",
    "all_reviews = pos_reviews + neg_reviews + pos_ext + neg_ext\n",
    "df = pd.DataFrame(all_reviews)\n",
    "print(f\"Total review: {len(df)} ({df['label'].value_counts().to_dict()})\")\n",
    "df.head()\n",
    "\n",
    "OUT = Path(\"outputs\")\n",
    "OUT.mkdir(exist_ok=True, parents=True)\n",
    "raw_path = OUT / \"combined_reviews_dataset.csv\"\n"
   ]
  },
  {
   "cell_type": "markdown",
   "id": "a9aca47d",
   "metadata": {},
   "source": [
    "## 2) Bag-of-Words (binary)"
   ]
  },
  {
   "cell_type": "code",
   "execution_count": null,
   "id": "1e13fb0a",
   "metadata": {},
   "outputs": [],
   "source": [
    "vectorizer = CountVectorizer(stop_words='english', binary=True, min_df=2)\n",
    "X = vectorizer.fit_transform(df[\"text\"])\n",
    "feature_names = vectorizer.get_feature_names_out()\n",
    "\n",
    "bow_df = pd.DataFrame(X.toarray(), columns=feature_names)\n",
    "bow_df.insert(0, \"opinion_id\", df[\"opinion_id\"])\n",
    "bow_df[\"label\"] = df[\"label\"]\n",
    "\n",
    "bow_path = OUT / \"combined_bow_binary.csv\"\n",
    "bow_df.to_csv(bow_path, index=False)\n",
    "print(\"✅ Bag-of-Words saved:\", bow_path)\n"
   ]
  },
  {
   "cell_type": "markdown",
   "id": "3e1473d0",
   "metadata": {},
   "source": [
    "## 3) 3 Kata Paling Diskriminatif (log-odds NB)"
   ]
  },
  {
   "cell_type": "code",
   "execution_count": null,
   "id": "2e756a7e",
   "metadata": {},
   "outputs": [],
   "source": [
    "\n",
    "clf_tmp = MultinomialNB(alpha=1.0).fit(X, df['label'])\n",
    "classes_ = list(clf_tmp.classes_)\n",
    "pos_idx, neg_idx = classes_.index('Pos'), classes_.index('Neg')\n",
    "log_odds = clf_tmp.feature_log_prob_[pos_idx] - clf_tmp.feature_log_prob_[neg_idx]\n",
    "top3_idx = np.argsort(np.abs(log_odds))[-3:][::-1]\n",
    "sel_words = np.array(feature_names)[top3_idx]\n",
    "presence = X[:, top3_idx].toarray().T\n",
    "presence_table = pd.DataFrame(\n",
    "    presence,\n",
    "    index=[f\"Word {i+1} ({w})\" for i, w in enumerate(sel_words)],\n",
    "    columns=[str(i) for i in range(1, len(df) + 1)] \n",
    ")\n",
    "\n",
    "label_row = pd.DataFrame([df['label'].tolist()], index=['Label'], columns=presence_table.columns)\n",
    "sample_table = pd.concat([presence_table, label_row], axis=0)\n",
    "sample_table\n",
    "\n",
    "presence_path = OUT / \"sample_3word_presence_table.csv\"\n",
    "sample_table.to_csv(presence_path)\n",
    "print(\"✅ 3-word presence table saved:\", presence_path)"
   ]
  },
  {
   "cell_type": "markdown",
   "id": "642d540f",
   "metadata": {},
   "source": [
    "## 4) Train/Test Naive Bayes + Evaluasi"
   ]
  },
  {
   "cell_type": "code",
   "execution_count": null,
   "id": "c5b7bf31",
   "metadata": {},
   "outputs": [],
   "source": [
    "X_train, X_test, y_train, y_test = train_test_split(\n",
    "    X, df[\"label\"], test_size=0.2, random_state=42, stratify=df[\"label\"]\n",
    ")\n",
    "\n",
    "clf = MultinomialNB(alpha=1.0).fit(X_train, y_train)\n",
    "y_pred = clf.predict(X_test)\n",
    "\n",
    "# Prediksi per review\n",
    "pred_df = pd.DataFrame({\n",
    "    \"opinion_id\": df.iloc[y_test.index][\"opinion_id\"],\n",
    "    \"true_label\": y_test.values,\n",
    "    \"predicted_label\": y_pred\n",
    "})\n",
    "pred_path = OUT / \"nb_predictions.csv\"\n",
    "pred_df.to_csv(pred_path, index=False)\n",
    "\n",
    "# Confusion Matrix\n",
    "cm = confusion_matrix(y_test, y_pred, labels=[\"Neg\", \"Pos\"])\n",
    "cm_df = pd.DataFrame(cm, index=[\"Neg (true)\", \"Pos (true)\"], columns=[\"Neg (pred)\", \"Pos (pred)\"])\n",
    "cm_path = OUT / \"nb_confusion_matrix.csv\"\n",
    "cm_df.to_csv(cm_path)\n",
    "\n",
    "# Report & CV\n",
    "report = classification_report(y_test, y_pred, output_dict=True, zero_division=0)\n",
    "report_df = pd.DataFrame(report).transpose()\n",
    "skf = StratifiedKFold(n_splits=5, shuffle=True, random_state=42)\n",
    "cv_scores = cross_val_score(MultinomialNB(alpha=1.0), X, df[\"label\"], cv=skf, scoring=\"accuracy\")\n",
    "\n",
    "metrics_df = pd.DataFrame({\n",
    "    \"metric\": [\"holdout_accuracy\"] + [f\"cv_acc_fold_{i+1}\" for i in range(5)] + [\"cv_acc_mean\", \"cv_acc_std\"],\n",
    "    \"value\": [accuracy_score(y_test, y_pred)] + list(cv_scores) + [cv_scores.mean(), cv_scores.std()]\n",
    "})\n",
    "\n",
    "report_path = OUT / \"nb_classification_report.csv\"\n",
    "metrics_path = OUT / \"nb_metrics.csv\"\n",
    "report_df.to_csv(report_path)\n",
    "metrics_df.to_csv(metrics_path, index=False)\n",
    "\n",
    "print(\"✅ Predictions:\", pred_path)\n",
    "print(\"✅ Confusion matrix:\", cm_path)\n",
    "print(\"✅ Classification report:\", report_path)\n",
    "print(\"✅ Metrics:\", metrics_path)\n"
   ]
  },
  {
   "cell_type": "markdown",
   "id": "74cb24c8",
   "metadata": {},
   "source": [
    "## 5) 5-fold Cross-Validation"
   ]
  },
  {
   "cell_type": "code",
   "execution_count": 8,
   "id": "45d39484",
   "metadata": {},
   "outputs": [
    {
     "data": {
      "text/html": [
       "<div>\n",
       "<style scoped>\n",
       "    .dataframe tbody tr th:only-of-type {\n",
       "        vertical-align: middle;\n",
       "    }\n",
       "\n",
       "    .dataframe tbody tr th {\n",
       "        vertical-align: top;\n",
       "    }\n",
       "\n",
       "    .dataframe thead th {\n",
       "        text-align: right;\n",
       "    }\n",
       "</style>\n",
       "<table border=\"1\" class=\"dataframe\">\n",
       "  <thead>\n",
       "    <tr style=\"text-align: right;\">\n",
       "      <th></th>\n",
       "      <th>cv_acc</th>\n",
       "      <th>fold</th>\n",
       "      <th>mean</th>\n",
       "      <th>std</th>\n",
       "    </tr>\n",
       "  </thead>\n",
       "  <tbody>\n",
       "    <tr>\n",
       "      <th>0</th>\n",
       "      <td>0.835821</td>\n",
       "      <td>1</td>\n",
       "      <td>0.828856</td>\n",
       "      <td>0.01393</td>\n",
       "    </tr>\n",
       "    <tr>\n",
       "      <th>1</th>\n",
       "      <td>0.818408</td>\n",
       "      <td>2</td>\n",
       "      <td>0.828856</td>\n",
       "      <td>0.01393</td>\n",
       "    </tr>\n",
       "    <tr>\n",
       "      <th>2</th>\n",
       "      <td>0.833333</td>\n",
       "      <td>3</td>\n",
       "      <td>0.828856</td>\n",
       "      <td>0.01393</td>\n",
       "    </tr>\n",
       "    <tr>\n",
       "      <th>3</th>\n",
       "      <td>0.848259</td>\n",
       "      <td>4</td>\n",
       "      <td>0.828856</td>\n",
       "      <td>0.01393</td>\n",
       "    </tr>\n",
       "    <tr>\n",
       "      <th>4</th>\n",
       "      <td>0.808458</td>\n",
       "      <td>5</td>\n",
       "      <td>0.828856</td>\n",
       "      <td>0.01393</td>\n",
       "    </tr>\n",
       "  </tbody>\n",
       "</table>\n",
       "</div>"
      ],
      "text/plain": [
       "     cv_acc  fold      mean      std\n",
       "0  0.835821     1  0.828856  0.01393\n",
       "1  0.818408     2  0.828856  0.01393\n",
       "2  0.833333     3  0.828856  0.01393\n",
       "3  0.848259     4  0.828856  0.01393\n",
       "4  0.808458     5  0.828856  0.01393"
      ]
     },
     "execution_count": 8,
     "metadata": {},
     "output_type": "execute_result"
    }
   ],
   "source": [
    "skf = StratifiedKFold(n_splits=5, shuffle=True, random_state=42)\n",
    "cv_scores = cross_val_score(MultinomialNB(alpha=1.0), X, df['label'], cv=skf, scoring='accuracy')\n",
    "pd.DataFrame({'cv_acc': cv_scores, 'fold': range(1,6)}).assign(mean=cv_scores.mean(), std=cv_scores.std())"
   ]
  },
  {
   "cell_type": "markdown",
   "id": "1647d2e4-dc17-471b-a9a3-d034a4def6cd",
   "metadata": {},
   "source": [
    "## 6) Export BoW Versi Long\n"
   ]
  },
  {
   "cell_type": "code",
   "execution_count": 9,
   "id": "9fff33ee-5cf5-4b4f-aa62-114809e2aded",
   "metadata": {},
   "outputs": [
    {
     "ename": "ValueError",
     "evalue": "value_name (present) cannot match an element in the DataFrame columns.",
     "output_type": "error",
     "traceback": [
      "\u001b[0;31m---------------------------------------------------------------------------\u001b[0m",
      "\u001b[0;31mValueError\u001b[0m                                Traceback (most recent call last)",
      "Cell \u001b[0;32mIn[9], line 2\u001b[0m\n\u001b[1;32m      1\u001b[0m bow_long \u001b[38;5;241m=\u001b[39m (\n\u001b[0;32m----> 2\u001b[0m     \u001b[43mbow_df\u001b[49m\n\u001b[1;32m      3\u001b[0m \u001b[43m    \u001b[49m\u001b[38;5;241;43m.\u001b[39;49m\u001b[43mmelt\u001b[49m\u001b[43m(\u001b[49m\u001b[43mid_vars\u001b[49m\u001b[38;5;241;43m=\u001b[39;49m\u001b[43m[\u001b[49m\u001b[38;5;124;43m\"\u001b[39;49m\u001b[38;5;124;43mopinion_id\u001b[39;49m\u001b[38;5;124;43m\"\u001b[39;49m\u001b[43m,\u001b[49m\u001b[43m \u001b[49m\u001b[38;5;124;43m\"\u001b[39;49m\u001b[38;5;124;43mlabel\u001b[39;49m\u001b[38;5;124;43m\"\u001b[39;49m\u001b[43m]\u001b[49m\u001b[43m,\u001b[49m\u001b[43m \u001b[49m\u001b[43mvar_name\u001b[49m\u001b[38;5;241;43m=\u001b[39;49m\u001b[38;5;124;43m\"\u001b[39;49m\u001b[38;5;124;43mterm\u001b[39;49m\u001b[38;5;124;43m\"\u001b[39;49m\u001b[43m,\u001b[49m\u001b[43m \u001b[49m\u001b[43mvalue_name\u001b[49m\u001b[38;5;241;43m=\u001b[39;49m\u001b[38;5;124;43m\"\u001b[39;49m\u001b[38;5;124;43mpresent\u001b[39;49m\u001b[38;5;124;43m\"\u001b[39;49m\u001b[43m)\u001b[49m\n\u001b[1;32m      4\u001b[0m     \u001b[38;5;241m.\u001b[39mquery(\u001b[38;5;124m\"\u001b[39m\u001b[38;5;124mpresent == 1\u001b[39m\u001b[38;5;124m\"\u001b[39m)\n\u001b[1;32m      5\u001b[0m     \u001b[38;5;241m.\u001b[39mdrop(columns\u001b[38;5;241m=\u001b[39m[\u001b[38;5;124m\"\u001b[39m\u001b[38;5;124mpresent\u001b[39m\u001b[38;5;124m\"\u001b[39m])\n\u001b[1;32m      6\u001b[0m     \u001b[38;5;241m.\u001b[39msort_values([\u001b[38;5;124m\"\u001b[39m\u001b[38;5;124mopinion_id\u001b[39m\u001b[38;5;124m\"\u001b[39m, \u001b[38;5;124m\"\u001b[39m\u001b[38;5;124mterm\u001b[39m\u001b[38;5;124m\"\u001b[39m])\n\u001b[1;32m      7\u001b[0m )\n\u001b[1;32m      9\u001b[0m bow_long_path \u001b[38;5;241m=\u001b[39m OUT \u001b[38;5;241m/\u001b[39m \u001b[38;5;124m\"\u001b[39m\u001b[38;5;124mcombined_bow_long.csv\u001b[39m\u001b[38;5;124m\"\u001b[39m\n\u001b[1;32m     10\u001b[0m bow_long\u001b[38;5;241m.\u001b[39mto_csv(bow_long_path, index\u001b[38;5;241m=\u001b[39m\u001b[38;5;28;01mFalse\u001b[39;00m)\n",
      "File \u001b[0;32m~/Documents/Binus/ML/TK4/venv/lib/python3.9/site-packages/pandas/core/frame.py:9969\u001b[0m, in \u001b[0;36mDataFrame.melt\u001b[0;34m(self, id_vars, value_vars, var_name, value_name, col_level, ignore_index)\u001b[0m\n\u001b[1;32m   9959\u001b[0m \u001b[38;5;129m@Appender\u001b[39m(_shared_docs[\u001b[38;5;124m\"\u001b[39m\u001b[38;5;124mmelt\u001b[39m\u001b[38;5;124m\"\u001b[39m] \u001b[38;5;241m%\u001b[39m {\u001b[38;5;124m\"\u001b[39m\u001b[38;5;124mcaller\u001b[39m\u001b[38;5;124m\"\u001b[39m: \u001b[38;5;124m\"\u001b[39m\u001b[38;5;124mdf.melt(\u001b[39m\u001b[38;5;124m\"\u001b[39m, \u001b[38;5;124m\"\u001b[39m\u001b[38;5;124mother\u001b[39m\u001b[38;5;124m\"\u001b[39m: \u001b[38;5;124m\"\u001b[39m\u001b[38;5;124mmelt\u001b[39m\u001b[38;5;124m\"\u001b[39m})\n\u001b[1;32m   9960\u001b[0m \u001b[38;5;28;01mdef\u001b[39;00m\u001b[38;5;250m \u001b[39m\u001b[38;5;21mmelt\u001b[39m(\n\u001b[1;32m   9961\u001b[0m     \u001b[38;5;28mself\u001b[39m,\n\u001b[0;32m   (...)\u001b[0m\n\u001b[1;32m   9967\u001b[0m     ignore_index: \u001b[38;5;28mbool\u001b[39m \u001b[38;5;241m=\u001b[39m \u001b[38;5;28;01mTrue\u001b[39;00m,\n\u001b[1;32m   9968\u001b[0m ) \u001b[38;5;241m-\u001b[39m\u001b[38;5;241m>\u001b[39m DataFrame:\n\u001b[0;32m-> 9969\u001b[0m     \u001b[38;5;28;01mreturn\u001b[39;00m \u001b[43mmelt\u001b[49m\u001b[43m(\u001b[49m\n\u001b[1;32m   9970\u001b[0m \u001b[43m        \u001b[49m\u001b[38;5;28;43mself\u001b[39;49m\u001b[43m,\u001b[49m\n\u001b[1;32m   9971\u001b[0m \u001b[43m        \u001b[49m\u001b[43mid_vars\u001b[49m\u001b[38;5;241;43m=\u001b[39;49m\u001b[43mid_vars\u001b[49m\u001b[43m,\u001b[49m\n\u001b[1;32m   9972\u001b[0m \u001b[43m        \u001b[49m\u001b[43mvalue_vars\u001b[49m\u001b[38;5;241;43m=\u001b[39;49m\u001b[43mvalue_vars\u001b[49m\u001b[43m,\u001b[49m\n\u001b[1;32m   9973\u001b[0m \u001b[43m        \u001b[49m\u001b[43mvar_name\u001b[49m\u001b[38;5;241;43m=\u001b[39;49m\u001b[43mvar_name\u001b[49m\u001b[43m,\u001b[49m\n\u001b[1;32m   9974\u001b[0m \u001b[43m        \u001b[49m\u001b[43mvalue_name\u001b[49m\u001b[38;5;241;43m=\u001b[39;49m\u001b[43mvalue_name\u001b[49m\u001b[43m,\u001b[49m\n\u001b[1;32m   9975\u001b[0m \u001b[43m        \u001b[49m\u001b[43mcol_level\u001b[49m\u001b[38;5;241;43m=\u001b[39;49m\u001b[43mcol_level\u001b[49m\u001b[43m,\u001b[49m\n\u001b[1;32m   9976\u001b[0m \u001b[43m        \u001b[49m\u001b[43mignore_index\u001b[49m\u001b[38;5;241;43m=\u001b[39;49m\u001b[43mignore_index\u001b[49m\u001b[43m,\u001b[49m\n\u001b[1;32m   9977\u001b[0m \u001b[43m    \u001b[49m\u001b[43m)\u001b[49m\u001b[38;5;241m.\u001b[39m__finalize__(\u001b[38;5;28mself\u001b[39m, method\u001b[38;5;241m=\u001b[39m\u001b[38;5;124m\"\u001b[39m\u001b[38;5;124mmelt\u001b[39m\u001b[38;5;124m\"\u001b[39m)\n",
      "File \u001b[0;32m~/Documents/Binus/ML/TK4/venv/lib/python3.9/site-packages/pandas/core/reshape/melt.py:54\u001b[0m, in \u001b[0;36mmelt\u001b[0;34m(frame, id_vars, value_vars, var_name, value_name, col_level, ignore_index)\u001b[0m\n\u001b[1;32m     43\u001b[0m \u001b[38;5;129m@Appender\u001b[39m(_shared_docs[\u001b[38;5;124m\"\u001b[39m\u001b[38;5;124mmelt\u001b[39m\u001b[38;5;124m\"\u001b[39m] \u001b[38;5;241m%\u001b[39m {\u001b[38;5;124m\"\u001b[39m\u001b[38;5;124mcaller\u001b[39m\u001b[38;5;124m\"\u001b[39m: \u001b[38;5;124m\"\u001b[39m\u001b[38;5;124mpd.melt(df, \u001b[39m\u001b[38;5;124m\"\u001b[39m, \u001b[38;5;124m\"\u001b[39m\u001b[38;5;124mother\u001b[39m\u001b[38;5;124m\"\u001b[39m: \u001b[38;5;124m\"\u001b[39m\u001b[38;5;124mDataFrame.melt\u001b[39m\u001b[38;5;124m\"\u001b[39m})\n\u001b[1;32m     44\u001b[0m \u001b[38;5;28;01mdef\u001b[39;00m\u001b[38;5;250m \u001b[39m\u001b[38;5;21mmelt\u001b[39m(\n\u001b[1;32m     45\u001b[0m     frame: DataFrame,\n\u001b[0;32m   (...)\u001b[0m\n\u001b[1;32m     51\u001b[0m     ignore_index: \u001b[38;5;28mbool\u001b[39m \u001b[38;5;241m=\u001b[39m \u001b[38;5;28;01mTrue\u001b[39;00m,\n\u001b[1;32m     52\u001b[0m ) \u001b[38;5;241m-\u001b[39m\u001b[38;5;241m>\u001b[39m DataFrame:\n\u001b[1;32m     53\u001b[0m     \u001b[38;5;28;01mif\u001b[39;00m value_name \u001b[38;5;129;01min\u001b[39;00m frame\u001b[38;5;241m.\u001b[39mcolumns:\n\u001b[0;32m---> 54\u001b[0m         \u001b[38;5;28;01mraise\u001b[39;00m \u001b[38;5;167;01mValueError\u001b[39;00m(\n\u001b[1;32m     55\u001b[0m             \u001b[38;5;124mf\u001b[39m\u001b[38;5;124m\"\u001b[39m\u001b[38;5;124mvalue_name (\u001b[39m\u001b[38;5;132;01m{\u001b[39;00mvalue_name\u001b[38;5;132;01m}\u001b[39;00m\u001b[38;5;124m) cannot match an element in \u001b[39m\u001b[38;5;124m\"\u001b[39m\n\u001b[1;32m     56\u001b[0m             \u001b[38;5;124m\"\u001b[39m\u001b[38;5;124mthe DataFrame columns.\u001b[39m\u001b[38;5;124m\"\u001b[39m\n\u001b[1;32m     57\u001b[0m         )\n\u001b[1;32m     58\u001b[0m     id_vars \u001b[38;5;241m=\u001b[39m ensure_list_vars(id_vars, \u001b[38;5;124m\"\u001b[39m\u001b[38;5;124mid_vars\u001b[39m\u001b[38;5;124m\"\u001b[39m, frame\u001b[38;5;241m.\u001b[39mcolumns)\n\u001b[1;32m     59\u001b[0m     value_vars_was_not_none \u001b[38;5;241m=\u001b[39m value_vars \u001b[38;5;129;01mis\u001b[39;00m \u001b[38;5;129;01mnot\u001b[39;00m \u001b[38;5;28;01mNone\u001b[39;00m\n",
      "\u001b[0;31mValueError\u001b[0m: value_name (present) cannot match an element in the DataFrame columns."
     ]
    }
   ],
   "source": [
    "# --- Step 5: Export BoW Long (robust terhadap bentrok nama kolom) ---\n",
    "\n",
    "# Pilih nama kolom value yang dijamin tidak bentrok\n",
    "value_col = \"__presence__\"\n",
    "while value_col in bow_df.columns:\n",
    "    value_col += \"_\"\n",
    "\n",
    "bow_long = (\n",
    "    bow_df\n",
    "    .melt(\n",
    "        id_vars=[\"opinion_id\", \"label\"],\n",
    "        var_name=\"term\",\n",
    "        value_name=value_col\n",
    "    )\n",
    "    .query(f\"{value_col} == 1\")\n",
    "    .drop(columns=[value_col])\n",
    "    .sort_values([\"opinion_id\", \"term\"])\n",
    ")\n",
    "\n",
    "bow_long_path = OUT / \"combined_bow_long.csv\"\n",
    "bow_long.to_csv(bow_long_path, index=False)\n",
    "print(\"✅ Long-form BoW saved:\", bow_long_path)\n"
   ]
  },
  {
   "cell_type": "code",
   "execution_count": null,
   "id": "3ea55b0b-2424-4fe6-b964-5596ccdd675c",
   "metadata": {},
   "outputs": [],
   "source": []
  }
 ],
 "metadata": {
  "kernelspec": {
   "display_name": "Python 3 (ipykernel)",
   "language": "python",
   "name": "python3"
  },
  "language_info": {
   "codemirror_mode": {
    "name": "ipython",
    "version": 3
   },
   "file_extension": ".py",
   "mimetype": "text/x-python",
   "name": "python",
   "nbconvert_exporter": "python",
   "pygments_lexer": "ipython3",
   "version": "3.9.6"
  }
 },
 "nbformat": 4,
 "nbformat_minor": 5
}
