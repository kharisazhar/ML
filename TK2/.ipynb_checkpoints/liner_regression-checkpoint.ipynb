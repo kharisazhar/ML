{
 "cells": [
  {
   "cell_type": "code",
   "execution_count": 7,
   "id": "6a3f3d4b-f18f-44a4-a681-ecb601af55eb",
   "metadata": {},
   "outputs": [
    {
     "name": "stdout",
     "output_type": "stream",
     "text": [
      "--- Running Train Model ---\n",
      "Success\n",
      "\n",
      "--- Result ---\n",
      "Koefisien (m)      : 0.9739\n",
      "Konstanta (c)      : -3.2775\n",
      "Persamaan Regresi  : Sembuh = 0.9739 * Positif + (-3.2775)\n",
      "\n",
      "--- Result Evaluate ---\n",
      "Nilai RMSE         : 17.18\n",
      "Akurasi (R-squared): 0.9999 atau 99.99%\n",
      "\n",
      "========================================\n"
     ]
    }
   ],
   "source": [
    "import pandas as pd\n",
    "import numpy as np\n",
    "from sklearn.linear_model import LinearRegression\n",
    "from sklearn.metrics import mean_squared_error\n",
    "\n",
    "try:\n",
    "    df = pd.read_csv('data_covid_jakbar.csv')\n",
    "except FileNotFoundError:\n",
    "    print(\"File 'data_covid_jakbar.csv' tidak ditemukan. Membuat data manual...\")\n",
    "\n",
    "# 'Konfirmasi_Sembuh' \n",
    "df['Konfirmasi_Sembuh'] = df['Konfirmasi_Positif'] - (df['Konfirmasi_Meninggal'] + df['Konfirmasi_Isolasi_Mandiri'])\n",
    "\n",
    "# Variabel untuk Model\n",
    "X = df[['Konfirmasi_Positif']]  # Variabel independen (harus 2D)\n",
    "y = df['Konfirmasi_Sembuh']      # Variabel dependen\n",
    "\n",
    "# Training model using Linear Regression\n",
    "print(\"--- Running Train Model ---\")\n",
    "model = LinearRegression() # Object\n",
    "model.fit(X, y)            # Training\n",
    "print(\"Success\\n\")\n",
    "\n",
    "# Analisis Hasil Model\n",
    "koefisien = model.coef_[0]\n",
    "konstanta = model.intercept_\n",
    "\n",
    "print(\"--- Result ---\")\n",
    "print(f\"Koefisien (m)      : {koefisien:.4f}\")\n",
    "print(f\"Konstanta (c)      : {konstanta:.4f}\")\n",
    "print(f\"Persamaan Regresi  : Sembuh = {koefisien:.4f} * Positif + ({konstanta:.4f})\\n\")\n",
    "\n",
    "# Evaluate\n",
    "y_prediksi = model.predict(X)\n",
    "mse = mean_squared_error(y, y_prediksi)\n",
    "rmse = np.sqrt(mse)\n",
    "r2_score = model.score(X, y)\n",
    "\n",
    "print(\"--- Result Evaluate ---\")\n",
    "print(f\"Nilai RMSE         : {rmse:.2f}\")\n",
    "print(f\"Akurasi (R-squared): {r2_score:.4f} atau {r2_score:.2%}\")\n",
    "print(\"\\n\" + \"=\"*40)"
   ]
  },
  {
   "cell_type": "code",
   "execution_count": null,
   "id": "cf869e72-438e-4826-8db1-594579c4a6be",
   "metadata": {},
   "outputs": [],
   "source": []
  },
  {
   "cell_type": "code",
   "execution_count": null,
   "id": "dfe08089-82a2-45f8-8d01-60ad1a25cef5",
   "metadata": {},
   "outputs": [],
   "source": []
  }
 ],
 "metadata": {
  "kernelspec": {
   "display_name": "Python 3 (ipykernel)",
   "language": "python",
   "name": "python3"
  },
  "language_info": {
   "codemirror_mode": {
    "name": "ipython",
    "version": 3
   },
   "file_extension": ".py",
   "mimetype": "text/x-python",
   "name": "python",
   "nbconvert_exporter": "python",
   "pygments_lexer": "ipython3",
   "version": "3.9.6"
  }
 },
 "nbformat": 4,
 "nbformat_minor": 5
}
