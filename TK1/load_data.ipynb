{
 "cells": [
  {
   "cell_type": "code",
   "execution_count": 2,
   "id": "04287bbc-9116-408a-b2fe-58fdbc3cb9b0",
   "metadata": {},
   "outputs": [
    {
     "data": {
      "text/plain": [
       "(    Kecamatan           Kelurahan  Konfirmasi_Positif  Konfirmasi_Meninggal  \\\n",
       " 0  Cengkareng    Cengkareng Barat                8676                   120   \n",
       " 1  Cengkareng    Cengkareng Timur                8926                   119   \n",
       " 2  Cengkareng        Duri Kosambi                7437                    88   \n",
       " 3  Cengkareng               Kapuk                9480                   189   \n",
       " 4  Cengkareng  Kedaung Kali Angke                3146                    39   \n",
       " \n",
       "    Konfirmasi_Isolasi_Mandiri  \n",
       " 0                         104  \n",
       " 1                          89  \n",
       " 2                          81  \n",
       " 3                          62  \n",
       " 4                          32  ,\n",
       "        Konfirmasi_Positif  Konfirmasi_Meninggal  Konfirmasi_Isolasi_Mandiri\n",
       " count           31.000000             31.000000                   31.000000\n",
       " mean          5377.774194             68.129032                   75.354839\n",
       " std           2232.926476             35.422913                   38.693280\n",
       " min           2252.000000             33.000000                   13.000000\n",
       " 25%           3593.500000             42.500000                   54.000000\n",
       " 50%           5113.000000             56.000000                   74.000000\n",
       " 75%           7452.000000             86.000000                   89.000000\n",
       " max           9480.000000            189.000000                  173.000000)"
      ]
     },
     "execution_count": 2,
     "metadata": {},
     "output_type": "execute_result"
    }
   ],
   "source": [
    "import pandas as pd\n",
    "\n",
    "df = pd.read_csv(\"covid_jakbar.csv\")\n",
    "num_cols = [\"Konfirmasi_Positif\",\"Konfirmasi_Meninggal\",\"Konfirmasi_Isolasi_Mandiri\"]\n",
    "df[num_cols] = df[num_cols].apply(pd.to_numeric, errors=\"raise\")\n",
    "df.head(), df.describe()\n"
   ]
  },
  {
   "cell_type": "code",
   "execution_count": 3,
   "id": "35f155df-19bc-438b-aba5-b797431b1812",
   "metadata": {},
   "outputs": [
    {
     "data": {
      "text/plain": [
       "(   k  cluster  members  centroid_Positif  centroid_Meninggal  centroid_Isoman  \\\n",
       " 0  2        0       21          4026.524              48.905           60.905   \n",
       " 1  2        1       10          8215.400             108.500          105.700   \n",
       " \n",
       "    centroid_Total  \n",
       " 0        4136.333  \n",
       " 1        8429.600  ,\n",
       "    k  cluster  members  centroid_Positif  centroid_Meninggal  centroid_Isoman  \\\n",
       " 0  3        2       11          3126.909                42.0           40.455   \n",
       " 1  3        0       10          5016.100                56.5           83.400   \n",
       " 2  3        1       10          8215.400               108.5          105.700   \n",
       " \n",
       "    centroid_Total  \n",
       " 0        3209.364  \n",
       " 1        5156.000  \n",
       " 2        8429.600  ,\n",
       "    k  cluster  members  centroid_Positif  centroid_Meninggal  centroid_Isoman  \\\n",
       " 0  4        0        8          2860.500              40.500           32.625   \n",
       " 1  4        2        7          4174.571              49.000           69.857   \n",
       " 2  4        1        7          5603.571              63.571           85.000   \n",
       " 3  4        3        9          8375.556             111.111          110.111   \n",
       " \n",
       "    centroid_Total  \n",
       " 0        2933.625  \n",
       " 1        4293.429  \n",
       " 2        5752.143  \n",
       " 3        8596.778  )"
      ]
     },
     "execution_count": 3,
     "metadata": {},
     "output_type": "execute_result"
    }
   ],
   "source": [
    "from sklearn.cluster import KMeans\n",
    "import numpy as np\n",
    "import pandas as pd\n",
    "\n",
    "X = df[[\"Konfirmasi_Positif\",\"Konfirmasi_Meninggal\",\"Konfirmasi_Isolasi_Mandiri\"]].values\n",
    "\n",
    "def run_kmeans(X, k, seed=42):\n",
    "    km = KMeans(\n",
    "        n_clusters=k,\n",
    "        init=\"random\",   # centroid awal acak (sesuai soal)\n",
    "        n_init=10,       # beberapa inisialisasi → lebih stabil\n",
    "        max_iter=1000,\n",
    "        random_state=seed\n",
    "    )\n",
    "    labels = km.fit_predict(X)\n",
    "    return km, labels, km.cluster_centers_\n",
    "\n",
    "results = {}\n",
    "for k in [2,3,4]:\n",
    "    km, labels, centers = run_kmeans(X, k)\n",
    "    results[k] = {\"model\": km, \"labels\": labels, \"centers\": centers}\n",
    "\n",
    "def summarize(k):\n",
    "    centers = results[k][\"centers\"]\n",
    "    labels  = results[k][\"labels\"]\n",
    "    rows = []\n",
    "    for j, c in enumerate(centers):\n",
    "        rows.append({\n",
    "            \"k\": k, \"cluster\": j,\n",
    "            \"members\": int((labels==j).sum()),\n",
    "            \"centroid_Positif\": round(float(c[0]),3),\n",
    "            \"centroid_Meninggal\": round(float(c[1]),3),\n",
    "            \"centroid_Isoman\": round(float(c[2]),3),\n",
    "            \"centroid_Total\": round(float(c.sum()),3)\n",
    "        })\n",
    "    return pd.DataFrame(rows).sort_values(\"centroid_Total\", ascending=True).reset_index(drop=True)\n",
    "\n",
    "sum_k2 = summarize(2)\n",
    "sum_k3 = summarize(3)\n",
    "sum_k4 = summarize(4)\n",
    "\n",
    "sum_k2, sum_k3, sum_k4\n"
   ]
  },
  {
   "cell_type": "code",
   "execution_count": 4,
   "id": "94162a14-2647-4669-a986-c2ca4011a68f",
   "metadata": {},
   "outputs": [
    {
     "data": {
      "text/plain": [
       "Zona\n",
       "Hijau     11\n",
       "Kuning    10\n",
       "Merah     10\n",
       "Name: count, dtype: int64"
      ]
     },
     "execution_count": 4,
     "metadata": {},
     "output_type": "execute_result"
    }
   ],
   "source": [
    "def zone_mapping_for_k3(centers):\n",
    "    totals = [(i, float(c.sum())) for i, c in enumerate(centers)]\n",
    "    ranked = sorted(totals, key=lambda x: x[1])  # kecil → besar\n",
    "    return {\n",
    "        ranked[0][0]: \"Hijau\",\n",
    "        ranked[1][0]: \"Kuning\",\n",
    "        ranked[2][0]: \"Merah\"\n",
    "    }\n",
    "\n",
    "centers_k3 = results[3][\"centers\"]\n",
    "labels_k3  = results[3][\"labels\"]\n",
    "zone_map   = zone_mapping_for_k3(centers_k3)\n",
    "\n",
    "df_k3 = df.copy()\n",
    "df_k3[\"Cluster_k3\"] = labels_k3\n",
    "df_k3[\"Zona\"] = df_k3[\"Cluster_k3\"].map(zone_map)\n",
    "df_k3[\"Zona\"] = pd.Categorical(df_k3[\"Zona\"], categories=[\"Hijau\",\"Kuning\",\"Merah\"], ordered=True)\n",
    "\n",
    "# ringkasan jumlah kelurahan per zona\n",
    "df_k3[\"Zona\"].value_counts().sort_index()\n"
   ]
  },
  {
   "cell_type": "code",
   "execution_count": 5,
   "id": "2a786e4b-da14-4792-a182-2413e63fbb4f",
   "metadata": {},
   "outputs": [
    {
     "name": "stdout",
     "output_type": "stream",
     "text": [
      "Files saved: kmeans_summary_k2.csv, kmeans_summary_k3.csv, kmeans_summary_k4.csv, kelurahan_zona_k3.csv\n"
     ]
    }
   ],
   "source": [
    "sum_k2.to_csv(\"kmeans_summary_k2.csv\", index=False)\n",
    "sum_k3.to_csv(\"kmeans_summary_k3.csv\", index=False)\n",
    "sum_k4.to_csv(\"kmeans_summary_k4.csv\", index=False)\n",
    "df_k3.to_csv(\"kelurahan_zona_k3.csv\", index=False)\n",
    "\n",
    "print(\"Files saved:\",\n",
    "      \"kmeans_summary_k2.csv, kmeans_summary_k3.csv, kmeans_summary_k4.csv, kelurahan_zona_k3.csv\")\n"
   ]
  },
  {
   "cell_type": "code",
   "execution_count": 6,
   "id": "906f852a-78f1-45c6-8464-0e3f8dac5134",
   "metadata": {},
   "outputs": [
    {
     "data": {
      "image/png": "[encoded data removed]",
      "text/plain": [
       "<Figure size 600x500 with 1 Axes>"
      ]
     },
     "metadata": {},
     "output_type": "display_data"
    }
   ],
   "source": [
    "import matplotlib.pyplot as plt\n",
    "\n",
    "color_map = {\"Hijau\":\"green\",\"Kuning\":\"gold\",\"Merah\":\"red\"}\n",
    "plt.figure(figsize=(6,5))\n",
    "plt.scatter(df_k3[\"Konfirmasi_Positif\"], df_k3[\"Konfirmasi_Isolasi_Mandiri\"], \n",
    "            c=df_k3[\"Zona\"].map(color_map))\n",
    "plt.xlabel(\"Konfirmasi Positif\")\n",
    "plt.ylabel(\"Konfirmasi Isolasi Mandiri\")\n",
    "plt.title(\"K-Means k=3 — Warna = Zona\")\n",
    "plt.show()\n"
   ]
  },
  {
   "cell_type": "code",
   "execution_count": null,
   "id": "71a3e630-b78e-4ae5-9f93-da19fb7a331d",
   "metadata": {},
   "outputs": [],
   "source": []
  }
 ],
 "metadata": {
  "kernelspec": {
   "display_name": "Python 3 (ipykernel)",
   "language": "python",
   "name": "python3"
  },
  "language_info": {
   "codemirror_mode": {
    "name": "ipython",
    "version": 3
   },
   "file_extension": ".py",
   "mimetype": "text/x-python",
   "name": "python",
   "nbconvert_exporter": "python",
   "pygments_lexer": "ipython3",
   "version": "3.9.6"
  }
 },
 "nbformat": 4,
 "nbformat_minor": 5
}
