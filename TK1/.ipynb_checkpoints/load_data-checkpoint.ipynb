{
 "cells": [
  {
   "cell_type": "code",
   "execution_count": 2,
   "id": "04287bbc-9116-408a-b2fe-58fdbc3cb9b0",
   "metadata": {},
   "outputs": [
    {
     "data": {
      "text/plain": [
       "(    Kecamatan           Kelurahan  Konfirmasi_Positif  Konfirmasi_Meninggal  \\\n",
       " 0  Cengkareng    Cengkareng Barat                8676                   120   \n",
       " 1  Cengkareng    Cengkareng Timur                8926                   119   \n",
       " 2  Cengkareng        Duri Kosambi                7437                    88   \n",
       " 3  Cengkareng               Kapuk                9480                   189   \n",
       " 4  Cengkareng  Kedaung Kali Angke                3146                    39   \n",
       " \n",
       "    Konfirmasi_Isolasi_Mandiri  \n",
       " 0                         104  \n",
       " 1                          89  \n",
       " 2                          81  \n",
       " 3                          62  \n",
       " 4                          32  ,\n",
       "        Konfirmasi_Positif  Konfirmasi_Meninggal  Konfirmasi_Isolasi_Mandiri\n",
       " count           31.000000             31.000000                   31.000000\n",
       " mean          5377.774194             68.129032                   75.354839\n",
       " std           2232.926476             35.422913                   38.693280\n",
       " min           2252.000000             33.000000                   13.000000\n",
       " 25%           3593.500000             42.500000                   54.000000\n",
       " 50%           5113.000000             56.000000                   74.000000\n",
       " 75%           7452.000000             86.000000                   89.000000\n",
       " max           9480.000000            189.000000                  173.000000)"
      ]
     },
     "execution_count": 2,
     "metadata": {},
     "output_type": "execute_result"
    }
   ],
   "source": [
    "import pandas as pd\n",
    "\n",
    "df = pd.read_csv(\"covid_jakbar.csv\")\n",
    "num_cols = [\"Konfirmasi_Positif\",\"Konfirmasi_Meninggal\",\"Konfirmasi_Isolasi_Mandiri\"]\n",
    "df[num_cols] = df[num_cols].apply(pd.to_numeric, errors=\"raise\")\n",
    "df.head(), df.describe()\n"
   ]
  },
  {
   "cell_type": "code",
   "execution_count": null,
   "id": "35f155df-19bc-438b-aba5-b797431b1812",
   "metadata": {},
   "outputs": [],
   "source": []
  }
 ],
 "metadata": {
  "kernelspec": {
   "display_name": "Python 3 (ipykernel)",
   "language": "python",
   "name": "python3"
  },
  "language_info": {
   "codemirror_mode": {
    "name": "ipython",
    "version": 3
   },
   "file_extension": ".py",
   "mimetype": "text/x-python",
   "name": "python",
   "nbconvert_exporter": "python",
   "pygments_lexer": "ipython3",
   "version": "3.9.6"
  }
 },
 "nbformat": 4,
 "nbformat_minor": 5
}
